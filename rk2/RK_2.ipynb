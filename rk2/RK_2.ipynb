{
 "cells": [
  {
   "cell_type": "code",
   "execution_count": 108,
   "metadata": {},
   "outputs": [],
   "source": [
    "import pandas as pd\n",
    "import numpy as np\n",
    "import seaborn as sns\n",
    "from sklearn.preprocessing import LabelEncoder\n",
    "from sklearn.model_selection import train_test_split\n",
    "from sklearn.metrics import f1_score, precision_score\n",
    "from sklearn.linear_model import LogisticRegression\n",
    "import matplotlib.pyplot as plt\n",
    "from sklearn.naive_bayes import MultinomialNB, ComplementNB, BernoulliNB\n",
    "from sklearn.metrics import accuracy_score\n",
    "from sklearn.svm import LinearSVC\n",
    "from sklearn.feature_extraction.text import TfidfVectorizer\n",
    "\n",
    "%matplotlib inline \n",
    "sns.set(style=\"ticks\")"
   ]
  },
  {
   "cell_type": "code",
   "execution_count": 109,
   "metadata": {
    "scrolled": false
   },
   "outputs": [
    {
     "data": {
      "text/html": [
       "<div>\n",
       "<style scoped>\n",
       "    .dataframe tbody tr th:only-of-type {\n",
       "        vertical-align: middle;\n",
       "    }\n",
       "\n",
       "    .dataframe tbody tr th {\n",
       "        vertical-align: top;\n",
       "    }\n",
       "\n",
       "    .dataframe thead th {\n",
       "        text-align: right;\n",
       "    }\n",
       "</style>\n",
       "<table border=\"1\" class=\"dataframe\">\n",
       "  <thead>\n",
       "    <tr style=\"text-align: right;\">\n",
       "      <th></th>\n",
       "      <th>idx</th>\n",
       "      <th>text</th>\n",
       "      <th>type</th>\n",
       "      <th>details</th>\n",
       "      <th>episodeid</th>\n",
       "      <th>doctorid</th>\n",
       "    </tr>\n",
       "  </thead>\n",
       "  <tbody>\n",
       "    <tr>\n",
       "      <th>0</th>\n",
       "      <td>0</td>\n",
       "      <td>Sylvest home</td>\n",
       "      <td>location</td>\n",
       "      <td>NaN</td>\n",
       "      <td>21-7</td>\n",
       "      <td>6</td>\n",
       "    </tr>\n",
       "    <tr>\n",
       "      <th>1</th>\n",
       "      <td>1</td>\n",
       "      <td>Twin boys are playing a cross between chess an...</td>\n",
       "      <td>context</td>\n",
       "      <td>NaN</td>\n",
       "      <td>21-7</td>\n",
       "      <td>6</td>\n",
       "    </tr>\n",
       "    <tr>\n",
       "      <th>2</th>\n",
       "      <td>2</td>\n",
       "      <td>Where's mother?</td>\n",
       "      <td>talk</td>\n",
       "      <td>REMUS</td>\n",
       "      <td>21-7</td>\n",
       "      <td>6</td>\n",
       "    </tr>\n",
       "    <tr>\n",
       "      <th>3</th>\n",
       "      <td>3</td>\n",
       "      <td>She's busy.</td>\n",
       "      <td>talk</td>\n",
       "      <td>SYLVEST</td>\n",
       "      <td>21-7</td>\n",
       "      <td>6</td>\n",
       "    </tr>\n",
       "    <tr>\n",
       "      <th>4</th>\n",
       "      <td>4</td>\n",
       "      <td>Does that mean she isn't talking to us?</td>\n",
       "      <td>talk</td>\n",
       "      <td>ROMULUS</td>\n",
       "      <td>21-7</td>\n",
       "      <td>6</td>\n",
       "    </tr>\n",
       "    <tr>\n",
       "      <th>...</th>\n",
       "      <td>...</td>\n",
       "      <td>...</td>\n",
       "      <td>...</td>\n",
       "      <td>...</td>\n",
       "      <td>...</td>\n",
       "      <td>...</td>\n",
       "    </tr>\n",
       "    <tr>\n",
       "      <th>319842</th>\n",
       "      <td>1199</td>\n",
       "      <td>Everyone say Hi! to ColinBaker, channelling Wi...</td>\n",
       "      <td>context</td>\n",
       "      <td>NaN</td>\n",
       "      <td>21-6</td>\n",
       "      <td>5</td>\n",
       "    </tr>\n",
       "    <tr>\n",
       "      <th>319843</th>\n",
       "      <td>1200</td>\n",
       "      <td>I, I, I.</td>\n",
       "      <td>talk</td>\n",
       "      <td>PERI</td>\n",
       "      <td>21-6</td>\n",
       "      <td>5</td>\n",
       "    </tr>\n",
       "    <tr>\n",
       "      <th>319844</th>\n",
       "      <td>1201</td>\n",
       "      <td>That's three I's in one breath. Makes you sou...</td>\n",
       "      <td>talk</td>\n",
       "      <td>DOCTOR</td>\n",
       "      <td>21-6</td>\n",
       "      <td>5</td>\n",
       "    </tr>\n",
       "    <tr>\n",
       "      <th>319845</th>\n",
       "      <td>1202</td>\n",
       "      <td>What's happened?</td>\n",
       "      <td>talk</td>\n",
       "      <td>PERI</td>\n",
       "      <td>21-6</td>\n",
       "      <td>5</td>\n",
       "    </tr>\n",
       "    <tr>\n",
       "      <th>319846</th>\n",
       "      <td>1203</td>\n",
       "      <td>Change, my dear. And it seems not a moment to...</td>\n",
       "      <td>talk</td>\n",
       "      <td>DOCTOR</td>\n",
       "      <td>21-6</td>\n",
       "      <td>5</td>\n",
       "    </tr>\n",
       "  </tbody>\n",
       "</table>\n",
       "<p>319847 rows × 6 columns</p>\n",
       "</div>"
      ],
      "text/plain": [
       "         idx                                               text      type  \\\n",
       "0          0                                       Sylvest home  location   \n",
       "1          1  Twin boys are playing a cross between chess an...   context   \n",
       "2          2                                    Where's mother?      talk   \n",
       "3          3                                        She's busy.      talk   \n",
       "4          4            Does that mean she isn't talking to us?      talk   \n",
       "...      ...                                                ...       ...   \n",
       "319842  1199  Everyone say Hi! to ColinBaker, channelling Wi...   context   \n",
       "319843  1200                                           I, I, I.      talk   \n",
       "319844  1201   That's three I's in one breath. Makes you sou...      talk   \n",
       "319845  1202                                   What's happened?      talk   \n",
       "319846  1203   Change, my dear. And it seems not a moment to...      talk   \n",
       "\n",
       "        details episodeid  doctorid  \n",
       "0           NaN      21-7         6  \n",
       "1           NaN      21-7         6  \n",
       "2         REMUS      21-7         6  \n",
       "3       SYLVEST      21-7         6  \n",
       "4       ROMULUS      21-7         6  \n",
       "...         ...       ...       ...  \n",
       "319842      NaN      21-6         5  \n",
       "319843     PERI      21-6         5  \n",
       "319844   DOCTOR      21-6         5  \n",
       "319845     PERI      21-6         5  \n",
       "319846   DOCTOR      21-6         5  \n",
       "\n",
       "[319847 rows x 6 columns]"
      ]
     },
     "execution_count": 109,
     "metadata": {},
     "output_type": "execute_result"
    }
   ],
   "source": [
    "data = pd.read_csv('doctor_who.csv')\n",
    "data"
   ]
  },
  {
   "cell_type": "code",
   "execution_count": 110,
   "metadata": {
    "scrolled": true
   },
   "outputs": [
    {
     "data": {
      "text/html": [
       "<div>\n",
       "<style scoped>\n",
       "    .dataframe tbody tr th:only-of-type {\n",
       "        vertical-align: middle;\n",
       "    }\n",
       "\n",
       "    .dataframe tbody tr th {\n",
       "        vertical-align: top;\n",
       "    }\n",
       "\n",
       "    .dataframe thead th {\n",
       "        text-align: right;\n",
       "    }\n",
       "</style>\n",
       "<table border=\"1\" class=\"dataframe\">\n",
       "  <thead>\n",
       "    <tr style=\"text-align: right;\">\n",
       "      <th></th>\n",
       "      <th>text</th>\n",
       "      <th>doctorid</th>\n",
       "    </tr>\n",
       "  </thead>\n",
       "  <tbody>\n",
       "    <tr>\n",
       "      <th>0</th>\n",
       "      <td>Sylvest home</td>\n",
       "      <td>6</td>\n",
       "    </tr>\n",
       "    <tr>\n",
       "      <th>1</th>\n",
       "      <td>Twin boys are playing a cross between chess an...</td>\n",
       "      <td>6</td>\n",
       "    </tr>\n",
       "    <tr>\n",
       "      <th>2</th>\n",
       "      <td>Where's mother?</td>\n",
       "      <td>6</td>\n",
       "    </tr>\n",
       "    <tr>\n",
       "      <th>3</th>\n",
       "      <td>She's busy.</td>\n",
       "      <td>6</td>\n",
       "    </tr>\n",
       "    <tr>\n",
       "      <th>4</th>\n",
       "      <td>Does that mean she isn't talking to us?</td>\n",
       "      <td>6</td>\n",
       "    </tr>\n",
       "    <tr>\n",
       "      <th>...</th>\n",
       "      <td>...</td>\n",
       "      <td>...</td>\n",
       "    </tr>\n",
       "    <tr>\n",
       "      <th>319842</th>\n",
       "      <td>Everyone say Hi! to ColinBaker, channelling Wi...</td>\n",
       "      <td>5</td>\n",
       "    </tr>\n",
       "    <tr>\n",
       "      <th>319843</th>\n",
       "      <td>I, I, I.</td>\n",
       "      <td>5</td>\n",
       "    </tr>\n",
       "    <tr>\n",
       "      <th>319844</th>\n",
       "      <td>That's three I's in one breath. Makes you sou...</td>\n",
       "      <td>5</td>\n",
       "    </tr>\n",
       "    <tr>\n",
       "      <th>319845</th>\n",
       "      <td>What's happened?</td>\n",
       "      <td>5</td>\n",
       "    </tr>\n",
       "    <tr>\n",
       "      <th>319846</th>\n",
       "      <td>Change, my dear. And it seems not a moment to...</td>\n",
       "      <td>5</td>\n",
       "    </tr>\n",
       "  </tbody>\n",
       "</table>\n",
       "<p>319847 rows × 2 columns</p>\n",
       "</div>"
      ],
      "text/plain": [
       "                                                     text  doctorid\n",
       "0                                            Sylvest home         6\n",
       "1       Twin boys are playing a cross between chess an...         6\n",
       "2                                         Where's mother?         6\n",
       "3                                             She's busy.         6\n",
       "4                 Does that mean she isn't talking to us?         6\n",
       "...                                                   ...       ...\n",
       "319842  Everyone say Hi! to ColinBaker, channelling Wi...         5\n",
       "319843                                           I, I, I.         5\n",
       "319844   That's three I's in one breath. Makes you sou...         5\n",
       "319845                                   What's happened?         5\n",
       "319846   Change, my dear. And it seems not a moment to...         5\n",
       "\n",
       "[319847 rows x 2 columns]"
      ]
     },
     "execution_count": 110,
     "metadata": {},
     "output_type": "execute_result"
    }
   ],
   "source": [
    "data = data.drop(columns = ['idx', 'type','details','episodeid'])\n",
    "data"
   ]
  },
  {
   "cell_type": "code",
   "execution_count": 111,
   "metadata": {
    "scrolled": true
   },
   "outputs": [
    {
     "data": {
      "text/plain": [
       "text        14\n",
       "doctorid     0\n",
       "dtype: int64"
      ]
     },
     "execution_count": 111,
     "metadata": {},
     "output_type": "execute_result"
    }
   ],
   "source": [
    "data.isnull().sum()"
   ]
  },
  {
   "cell_type": "code",
   "execution_count": 112,
   "metadata": {
    "scrolled": false
   },
   "outputs": [
    {
     "data": {
      "text/plain": [
       "text        0\n",
       "doctorid    0\n",
       "dtype: int64"
      ]
     },
     "execution_count": 112,
     "metadata": {},
     "output_type": "execute_result"
    }
   ],
   "source": [
    "data = data.dropna(axis=0, how='any')\n",
    "data.isnull().sum()"
   ]
  },
  {
   "cell_type": "code",
   "execution_count": 113,
   "metadata": {
    "scrolled": false
   },
   "outputs": [
    {
     "data": {
      "text/plain": [
       "4     62006\n",
       "1     39508\n",
       "3     39440\n",
       "2     38687\n",
       "10    31383\n",
       "11    26865\n",
       "5     25050\n",
       "12    14559\n",
       "7     14080\n",
       "6     13950\n",
       "9      6980\n",
       "13     6116\n",
       "8      1209\n",
       "Name: doctorid, dtype: int64"
      ]
     },
     "execution_count": 113,
     "metadata": {},
     "output_type": "execute_result"
    }
   ],
   "source": [
    "data['doctorid'].value_counts()"
   ]
  },
  {
   "cell_type": "code",
   "execution_count": 114,
   "metadata": {},
   "outputs": [
    {
     "data": {
      "text/plain": [
       "<matplotlib.axes._subplots.AxesSubplot at 0x309ba908>"
      ]
     },
     "execution_count": 114,
     "metadata": {},
     "output_type": "execute_result"
    },
    {
     "data": {
      "image/png": "[encoded data removed]",
      "text/plain": [
       "<Figure size 432x288 with 1 Axes>"
      ]
     },
     "metadata": {},
     "output_type": "display_data"
    }
   ],
   "source": [
    "sns.countplot(data['doctorid'])"
   ]
  },
  {
   "cell_type": "code",
   "execution_count": 115,
   "metadata": {},
   "outputs": [],
   "source": [
    "X = data.drop('doctorid', axis=1)\n",
    "Y = data['doctorid']"
   ]
  },
  {
   "cell_type": "code",
   "execution_count": 116,
   "metadata": {},
   "outputs": [
    {
     "data": {
      "text/html": [
       "<div>\n",
       "<style scoped>\n",
       "    .dataframe tbody tr th:only-of-type {\n",
       "        vertical-align: middle;\n",
       "    }\n",
       "\n",
       "    .dataframe tbody tr th {\n",
       "        vertical-align: top;\n",
       "    }\n",
       "\n",
       "    .dataframe thead th {\n",
       "        text-align: right;\n",
       "    }\n",
       "</style>\n",
       "<table border=\"1\" class=\"dataframe\">\n",
       "  <thead>\n",
       "    <tr style=\"text-align: right;\">\n",
       "      <th></th>\n",
       "      <th>text</th>\n",
       "    </tr>\n",
       "  </thead>\n",
       "  <tbody>\n",
       "    <tr>\n",
       "      <th>0</th>\n",
       "      <td>Sylvest home</td>\n",
       "    </tr>\n",
       "    <tr>\n",
       "      <th>1</th>\n",
       "      <td>Twin boys are playing a cross between chess an...</td>\n",
       "    </tr>\n",
       "    <tr>\n",
       "      <th>2</th>\n",
       "      <td>Where's mother?</td>\n",
       "    </tr>\n",
       "    <tr>\n",
       "      <th>3</th>\n",
       "      <td>She's busy.</td>\n",
       "    </tr>\n",
       "    <tr>\n",
       "      <th>4</th>\n",
       "      <td>Does that mean she isn't talking to us?</td>\n",
       "    </tr>\n",
       "    <tr>\n",
       "      <th>...</th>\n",
       "      <td>...</td>\n",
       "    </tr>\n",
       "    <tr>\n",
       "      <th>319842</th>\n",
       "      <td>Everyone say Hi! to ColinBaker, channelling Wi...</td>\n",
       "    </tr>\n",
       "    <tr>\n",
       "      <th>319843</th>\n",
       "      <td>I, I, I.</td>\n",
       "    </tr>\n",
       "    <tr>\n",
       "      <th>319844</th>\n",
       "      <td>That's three I's in one breath. Makes you sou...</td>\n",
       "    </tr>\n",
       "    <tr>\n",
       "      <th>319845</th>\n",
       "      <td>What's happened?</td>\n",
       "    </tr>\n",
       "    <tr>\n",
       "      <th>319846</th>\n",
       "      <td>Change, my dear. And it seems not a moment to...</td>\n",
       "    </tr>\n",
       "  </tbody>\n",
       "</table>\n",
       "<p>319833 rows × 1 columns</p>\n",
       "</div>"
      ],
      "text/plain": [
       "                                                     text\n",
       "0                                            Sylvest home\n",
       "1       Twin boys are playing a cross between chess an...\n",
       "2                                         Where's mother?\n",
       "3                                             She's busy.\n",
       "4                 Does that mean she isn't talking to us?\n",
       "...                                                   ...\n",
       "319842  Everyone say Hi! to ColinBaker, channelling Wi...\n",
       "319843                                           I, I, I.\n",
       "319844   That's three I's in one breath. Makes you sou...\n",
       "319845                                   What's happened?\n",
       "319846   Change, my dear. And it seems not a moment to...\n",
       "\n",
       "[319833 rows x 1 columns]"
      ]
     },
     "execution_count": 116,
     "metadata": {},
     "output_type": "execute_result"
    }
   ],
   "source": [
    "X"
   ]
  },
  {
   "cell_type": "code",
   "execution_count": 117,
   "metadata": {},
   "outputs": [
    {
     "data": {
      "text/plain": [
       "0         6\n",
       "1         6\n",
       "2         6\n",
       "3         6\n",
       "4         6\n",
       "         ..\n",
       "319842    5\n",
       "319843    5\n",
       "319844    5\n",
       "319845    5\n",
       "319846    5\n",
       "Name: doctorid, Length: 319833, dtype: int64"
      ]
     },
     "execution_count": 117,
     "metadata": {},
     "output_type": "execute_result"
    }
   ],
   "source": [
    "Y"
   ]
  },
  {
   "cell_type": "code",
   "execution_count": 118,
   "metadata": {},
   "outputs": [
    {
     "name": "stdout",
     "output_type": "stream",
     "text": [
      "(223883, 1), (95950, 1)\n",
      "(223883,), (95950,)\n"
     ]
    }
   ],
   "source": [
    "X_train, X_test, Y_train, Y_test = train_test_split(X, Y, test_size=0.3, random_state=1)\n",
    "print('{}, {}'.format(X_train.shape, X_test.shape))\n",
    "print('{}, {}'.format(Y_train.shape, Y_test.shape))"
   ]
  },
  {
   "cell_type": "code",
   "execution_count": 119,
   "metadata": {},
   "outputs": [
    {
     "data": {
      "text/plain": [
       "TfidfVectorizer(analyzer='word', binary=False, decode_error='strict',\n",
       "                dtype=<class 'numpy.float64'>, encoding='utf-8',\n",
       "                input='content', lowercase=True, max_df=1.0, max_features=None,\n",
       "                min_df=1, ngram_range=(1, 1), norm='l2', preprocessor=None,\n",
       "                smooth_idf=True, stop_words=None, strip_accents=None,\n",
       "                sublinear_tf=False, token_pattern='(?u)\\\\b\\\\w\\\\w+\\\\b',\n",
       "                tokenizer=None, use_idf=True, vocabulary=None)"
      ]
     },
     "execution_count": 119,
     "metadata": {},
     "output_type": "execute_result"
    }
   ],
   "source": [
    "vectorizer = TfidfVectorizer()\n",
    "vectorizer.fit(X_train + X_test)"
   ]
  },
  {
   "cell_type": "code",
   "execution_count": 120,
   "metadata": {},
   "outputs": [
    {
     "data": {
      "text/html": [
       "<div>\n",
       "<style scoped>\n",
       "    .dataframe tbody tr th:only-of-type {\n",
       "        vertical-align: middle;\n",
       "    }\n",
       "\n",
       "    .dataframe tbody tr th {\n",
       "        vertical-align: top;\n",
       "    }\n",
       "\n",
       "    .dataframe thead th {\n",
       "        text-align: right;\n",
       "    }\n",
       "</style>\n",
       "<table border=\"1\" class=\"dataframe\">\n",
       "  <thead>\n",
       "    <tr style=\"text-align: right;\">\n",
       "      <th></th>\n",
       "      <th>text</th>\n",
       "    </tr>\n",
       "  </thead>\n",
       "  <tbody>\n",
       "    <tr>\n",
       "      <th>119339</th>\n",
       "      <td>Oh, good. Great. I think.</td>\n",
       "    </tr>\n",
       "    <tr>\n",
       "      <th>233297</th>\n",
       "      <td>This is a friend of mine, Griff.</td>\n",
       "    </tr>\n",
       "    <tr>\n",
       "      <th>225971</th>\n",
       "      <td>But brand new.</td>\n",
       "    </tr>\n",
       "    <tr>\n",
       "      <th>133933</th>\n",
       "      <td>But what happens then, Doctor? If it takes th...</td>\n",
       "    </tr>\n",
       "    <tr>\n",
       "      <th>205207</th>\n",
       "      <td>Thanks, mates. And now, a romantic number fro...</td>\n",
       "    </tr>\n",
       "    <tr>\n",
       "      <th>...</th>\n",
       "      <td>...</td>\n",
       "    </tr>\n",
       "    <tr>\n",
       "      <th>117590</th>\n",
       "      <td>Right! Fine! I don't want you here anyway! Wh...</td>\n",
       "    </tr>\n",
       "    <tr>\n",
       "      <th>73355</th>\n",
       "      <td>Brigadier</td>\n",
       "    </tr>\n",
       "    <tr>\n",
       "      <th>312215</th>\n",
       "      <td>Freeze, Sarah Jane. If you move, we're dead.</td>\n",
       "    </tr>\n",
       "    <tr>\n",
       "      <th>267349</th>\n",
       "      <td>You weren't with us, Chesterton, but every in...</td>\n",
       "    </tr>\n",
       "    <tr>\n",
       "      <th>128049</th>\n",
       "      <td>Anyway, if you could print that off. Thanks.</td>\n",
       "    </tr>\n",
       "  </tbody>\n",
       "</table>\n",
       "<p>223883 rows × 1 columns</p>\n",
       "</div>"
      ],
      "text/plain": [
       "                                                     text\n",
       "119339                          Oh, good. Great. I think.\n",
       "233297                   This is a friend of mine, Griff.\n",
       "225971                                     But brand new.\n",
       "133933   But what happens then, Doctor? If it takes th...\n",
       "205207   Thanks, mates. And now, a romantic number fro...\n",
       "...                                                   ...\n",
       "117590   Right! Fine! I don't want you here anyway! Wh...\n",
       "73355                                           Brigadier\n",
       "312215       Freeze, Sarah Jane. If you move, we're dead.\n",
       "267349   You weren't with us, Chesterton, but every in...\n",
       "128049       Anyway, if you could print that off. Thanks.\n",
       "\n",
       "[223883 rows x 1 columns]"
      ]
     },
     "execution_count": 120,
     "metadata": {},
     "output_type": "execute_result"
    }
   ],
   "source": [
    "X_train"
   ]
  },
  {
   "cell_type": "code",
   "execution_count": 121,
   "metadata": {},
   "outputs": [],
   "source": [
    "X_train_vec = vectorizer.transform(X_train['text'])\n",
    "X_test_vec = vectorizer.transform(X_test['text'])"
   ]
  },
  {
   "cell_type": "code",
   "execution_count": 122,
   "metadata": {},
   "outputs": [
    {
     "data": {
      "text/plain": [
       "(223883, 1)"
      ]
     },
     "execution_count": 122,
     "metadata": {},
     "output_type": "execute_result"
    }
   ],
   "source": [
    "X_train_vec.shape"
   ]
  },
  {
   "cell_type": "code",
   "execution_count": 123,
   "metadata": {},
   "outputs": [],
   "source": [
    "def test(model):\n",
    "    print(model)\n",
    "    model.fit(X_train_vec, Y_train)\n",
    "    print(\"accuracy:\", accuracy_score(Y_test, model.predict(X_test_vec)))"
   ]
  },
  {
   "cell_type": "code",
   "execution_count": 124,
   "metadata": {},
   "outputs": [
    {
     "name": "stdout",
     "output_type": "stream",
     "text": [
      "LogisticRegression(C=1.0, class_weight=None, dual=False, fit_intercept=True,\n",
      "                   intercept_scaling=1, l1_ratio=None, max_iter=100,\n",
      "                   multi_class='auto', n_jobs=None, penalty='l2',\n",
      "                   random_state=None, solver='lbfgs', tol=0.0001, verbose=0,\n",
      "                   warm_start=False)\n",
      "accuracy: 0.19519541427826992\n"
     ]
    }
   ],
   "source": [
    "test(LogisticRegression(solver='lbfgs', multi_class='auto'))"
   ]
  },
  {
   "cell_type": "code",
   "execution_count": 125,
   "metadata": {},
   "outputs": [
    {
     "name": "stdout",
     "output_type": "stream",
     "text": [
      "LinearSVC(C=1.0, class_weight=None, dual=True, fit_intercept=True,\n",
      "          intercept_scaling=1, loss='squared_hinge', max_iter=1000,\n",
      "          multi_class='ovr', penalty='l2', random_state=None, tol=0.0001,\n",
      "          verbose=0)\n",
      "accuracy: 0.19519541427826992\n"
     ]
    }
   ],
   "source": [
    "test(LinearSVC())"
   ]
  },
  {
   "cell_type": "code",
   "execution_count": 126,
   "metadata": {},
   "outputs": [
    {
     "name": "stdout",
     "output_type": "stream",
     "text": [
      "MultinomialNB(alpha=1.0, class_prior=None, fit_prior=True)\n",
      "accuracy: 0.19519541427826992\n"
     ]
    }
   ],
   "source": [
    "test(MultinomialNB())"
   ]
  },
  {
   "cell_type": "code",
   "execution_count": 127,
   "metadata": {},
   "outputs": [
    {
     "name": "stdout",
     "output_type": "stream",
     "text": [
      "ComplementNB(alpha=1.0, class_prior=None, fit_prior=True, norm=False)\n",
      "accuracy: 0.12190724335591453\n"
     ]
    }
   ],
   "source": [
    "test(ComplementNB())"
   ]
  },
  {
   "cell_type": "code",
   "execution_count": 128,
   "metadata": {},
   "outputs": [
    {
     "name": "stdout",
     "output_type": "stream",
     "text": [
      "BernoulliNB(alpha=1.0, binarize=0.0, class_prior=None, fit_prior=True)\n",
      "accuracy: 0.19519541427826992\n"
     ]
    }
   ],
   "source": [
    "test(BernoulliNB())"
   ]
  },
  {
   "cell_type": "code",
   "execution_count": null,
   "metadata": {},
   "outputs": [],
   "source": []
  }
 ],
 "metadata": {
  "kernelspec": {
   "display_name": "Python 3",
   "language": "python",
   "name": "python3"
  },
  "language_info": {
   "codemirror_mode": {
    "name": "ipython",
    "version": 3
   },
   "file_extension": ".py",
   "mimetype": "text/x-python",
   "name": "python",
   "nbconvert_exporter": "python",
   "pygments_lexer": "ipython3",
   "version": "3.7.6"
  }
 },
 "nbformat": 4,
 "nbformat_minor": 4
}
